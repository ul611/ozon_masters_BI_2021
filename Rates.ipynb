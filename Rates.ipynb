{
 "cells": [
  {
   "cell_type": "markdown",
   "metadata": {},
   "source": [
    "### Задание \"Ставки\""
   ]
  },
  {
   "cell_type": "markdown",
   "metadata": {},
   "source": [
    "Вы – маркетинговый аналитик в компании Озон.\n",
    "\n",
    "Когда-то давно, в 2019 году, когда Озон был просто интернет-магазином, Вашей задачей было привлечение клиентов и продвижение товаров интернет-магазина.\n",
    "\n",
    "Сейчас, когда Озон стал маркетплейсом, дирекция по маркетингу решила продавать свои услуги независимым продавцам. \n",
    "\n",
    "Рассматривается следующая схема взаимодействия:\n",
    " - Пользователь, зайдя на сайт, делает **поисковый запрос**\n",
    " - Поисковому запросу соответствует своя натуральная выдача\n",
    " - Выдача есть упорядоченный набор товаров\n",
    " - Каждый товар характеризуется релевантностью запросу (**relevant**), вероятностью покупки (**probability**), стоимостью (**price**), а также маржинальностью (**marginality**) (эти данные у нас есть).\n",
    " - Каждый клиент характеризуется своими запросами и своим бюджетом (**dict_of_queries**) (для каждого запроса) и набором личных характеристик (**dict_of_characteristics**) (фичей: пол, статус, размер и тд) – эти данные мы можем оценить.\n",
    " - Селлер может заплатить Озон за продвижение своего товара в поисковой выдаче. «Ставкой» селлера является дополнительная маржа при продаже (**margin_to_pay_back**), которой он делится с маркетплейсом.\n",
    "   \n",
    "**Ваша задача:** постройте **математическую модель** (**def propose_margin_to_pay_back()**), описывающую процесс принятия решений для селлера. Предложите на базе модели **алгоритм** (**def change_rank_of_sellers_good(margin_to_pay_back)**), который получая от селлера размер его ставки определяет, как именно изменить позицию товара селлера в поисковой выдаче. \n",
    "\n",
    "**Обоснуйте качество решения алгоритма**."
   ]
  },
  {
   "cell_type": "markdown",
   "metadata": {},
   "source": [
    "### Решение"
   ]
  },
  {
   "cell_type": "markdown",
   "metadata": {},
   "source": [
    "Формализуем задачу"
   ]
  },
  {
   "cell_type": "markdown",
   "metadata": {},
   "source": [
    "Пусть у нас есть словарь (либо таблица в базе данных) **dict_of_clients** с информацией о 100 пользователях."
   ]
  },
  {
   "cell_type": "code",
   "execution_count": 1,
   "metadata": {},
   "outputs": [],
   "source": [
    "dict_of_clients = {f'C{\"0\" * (2 - len(str(i)))}{i}':{'dict_of_characteristics':{'age':0,\n",
    "                                                                                'gender':'',\n",
    "                                                                                'size':''},\n",
    "                                                     'dict_of_queries':{}} for i in range(100)}"
   ]
  },
  {
   "cell_type": "markdown",
   "metadata": {},
   "source": [
    "У каждого пользователя есть набор личных характеристик **dict_of_characteristics**"
   ]
  },
  {
   "cell_type": "markdown",
   "metadata": {},
   "source": [
    "Также у каждого пользователя есть набор запросов **dict_of_queries** с описанием каждого запроса вида **запрос-бюджет**"
   ]
  },
  {
   "cell_type": "markdown",
   "metadata": {},
   "source": [
    "Создаем:\n",
    "- лист с 100 значениями возраста из нормального распределения со средним значением в 30 лет и стандартным отклонением 10 лет\n",
    "- лист с возможными значениями пола (также задаем вероятности для каждого значения из листа)\n",
    "- лист с возможными вариантами размера (задаем вероятности для каждого значения из листа)"
   ]
  },
  {
   "cell_type": "code",
   "execution_count": 2,
   "metadata": {},
   "outputs": [],
   "source": [
    "from random import seed, choices, normalvariate, randrange, random\n",
    "\n",
    "seed(a=222, version=2)\n",
    "\n",
    "mu = 30.0\n",
    "sigma = 10.0\n",
    "\n",
    "age = []\n",
    "while len(age) != 100:\n",
    "    age_i = int(round(normalvariate(mu, sigma)))\n",
    "    if age_i >= 18:\n",
    "        age.append(age_i)\n",
    "\n",
    "gender = ['male', 'female', 'unknown']\n",
    "gender_weights = [0.48, 0.48, 0.04]\n",
    "\n",
    "size = ['other', 'xs', 's', 'm', 'l', 'xl', 'xxl']\n",
    "size_weights = [0.13, 0.1, 0.14, 0.16, 0.17, 0.16, 0.14]\n"
   ]
  },
  {
   "cell_type": "markdown",
   "metadata": {},
   "source": [
    "Соберем возможные варианты запросов (заодно формируем список продуктов, немного странный правда :))"
   ]
  },
  {
   "cell_type": "code",
   "execution_count": 3,
   "metadata": {},
   "outputs": [],
   "source": [
    "from requests import get\n",
    "from bs4 import BeautifulSoup\n",
    "\n",
    "webpage = get('https://zarabotaydengi.com/10-trendovyh-tovarov-dlya-prodazhi-v-2019-godu/').text\n",
    "product_names = [tag.get_text() for tag in BeautifulSoup(webpage, 'html.parser').find_all('span')][65:-111]\n",
    "product_names.remove('Корм \\u200b\\u200bдля домашних животных')\n",
    "product_names += ['Корм для домашних животных']\n",
    "\n",
    "queries = list(set([query.split(' ')[0] for query in product_names] + product_names))\n"
   ]
  },
  {
   "cell_type": "markdown",
   "metadata": {},
   "source": [
    "Создаем словарь с данными. Для формирования запросов выбираем максимальное число запросов, равное 10, максимальный бюджет - 50 000 у.е."
   ]
  },
  {
   "cell_type": "code",
   "execution_count": 4,
   "metadata": {},
   "outputs": [],
   "source": [
    "for client_idx, client in enumerate(dict_of_clients):\n",
    "    dict_of_clients[client]['dict_of_characteristics']['age'] = age[client_idx]\n",
    "    dict_of_clients[client]['dict_of_characteristics']['gender'] = choices(gender, gender_weights, k=1)\n",
    "    dict_of_clients[client]['dict_of_characteristics']['size'] = choices(size, size_weights, k=1)\n",
    "    \n",
    "    for query_i in range(randrange(10)):\n",
    "        dict_of_clients[client]['dict_of_queries'][query_i] = {'query':choices(queries), \n",
    "                                                               'budjet':randrange(50000)}"
   ]
  },
  {
   "cell_type": "markdown",
   "metadata": {},
   "source": [
    "База товаров будет выглядеть следующим образом."
   ]
  },
  {
   "cell_type": "code",
   "execution_count": 6,
   "metadata": {},
   "outputs": [],
   "source": [
    "products = {}\n",
    "seller = [chr(i) for i in range(65,90)]"
   ]
  },
  {
   "cell_type": "code",
   "execution_count": 68,
   "metadata": {},
   "outputs": [],
   "source": [
    "for product_id in [f'P{\"0\" * (6 - len(str(i)))}{i}' for i in range(500)]:\n",
    "    products[product_id] = {'product_name':choices(product_names)[0],\n",
    "                            'seller':choices(seller)[0],\n",
    "                            'probability':random(),\n",
    "                            'price':randrange(50000),\n",
    "                            'marginality':normalvariate(0.8, 0.2),\n",
    "                            'margin_to_pay_back': randrange(3000)}"
   ]
  },
  {
   "cell_type": "markdown",
   "metadata": {},
   "source": [
    "Поле 'relevant' будет иметь три значения: 1, 5 и 10 и зависит от запроса\n",
    "- 1 означает, что запрос не содержится в названии продукта\n",
    "- 5 означает, что запрос совпадает с первым словом названия продукта\n",
    "- 10 означает, что запрос полностью совпадает с названием продукта"
   ]
  },
  {
   "cell_type": "markdown",
   "metadata": {},
   "source": [
    "#### Процесс принятия решения для селлера в предположении, что он может установить только единую для каждого случая ставку"
   ]
  },
  {
   "cell_type": "markdown",
   "metadata": {},
   "source": [
    "Задача селлера - подобрать такую ставку, чтобы общая выручка выросла с ростом объема продаж, обусловленным продвижением своего товара в поисковой выдаче.\n",
    "\n",
    "Вероятно, селлер не имеет доступа к полной информации о покупателе (о всех его предыдущих запросах), а OZON заинтересован в том, чтобы селлер установил какую-либо ставку.\n",
    "\n",
    "Крайние случаи для селлера:\n",
    "- Если товар селлера и так постоянно выдается первым, то он не заинтересован в установлении ставки (однако, селлер не знает, всегда ли его товар попадает первым в выдаче, так как это напрямую зависит от формулировки запроса пользователем)\n",
    "- Если товар селлера и так имеет минимальную маржинальность, то он также не заинтересован в установлении ставки\n",
    "\n",
    "Предполагаем, что изначально выдача формируется на основе релевантности запросу.\n",
    "Это то, на что селлер повлиять не может. Допустим также, что вероятность покупки зависит от стоимости товара, поэтому увеличивать стоимость мы не будем. Соответственно, при установлении ставки дополнительная маржа, которую селлер отдает маркетплейсу, уменьшает маржинальность.\n",
    "\n",
    "Пусть селлер имеет ориентировочную минимальную маржинальность, которую хочет получить, максимальное количество товара, которое он может продать за единицу времени, а также минимальную надбавку общей возможной маржи при заданном максимальном количестве товара и таком увеличении вероятности продажи товара.\n",
    "\n",
    "Таким образом, мы можем вычислить максимальную ставку, которую готов заплатить селлер маркетплейсу.\n",
    "Минимальной ставкой считаем отсутсвие ставки, то есть отсутствие целесообразности для селлера платить за подъем своего товара в выдаче поискового запроса.\n",
    "\n",
    "На старте для селлера будем считать, что увеличение ставки на n * 1% от начальной маржинальности приводит к увеличению вероятности продажи товара на n * 2% от начальной вероятности.\n",
    "\n",
    "Значит, если разница между текущей и минимальной маржинальностью меньше 1% от текущей, ставка будет равна 0.\n",
    "\n",
    "Также можно высчитать минимальное n для указанных условий. Стоит рассмотреть 2 случая.\n",
    "\n",
    "- 1) Рассчитаем максимальное выгодное n в общем случае, независимо от потенциальных ограничений значений curr_probability (p1) и curr_marginality (m1). Для удобства будет считать, что n выражено в долях единицы. Задача селлера - использовать как можно меньшее выгодное ему n.\n",
    "\n",
    "Получаем функцию \n",
    "\n",
    "$F(n) = (p_1 (1 + 2n))(m_1 (1 - n)) - p_1 m_1 = (p_1 + 2p_1 n))(m_1 - m_1 n)) - p_1 m_1 = (p_1 m_1 - p_1 m_1 n + 2 p_1 m_1 n - 2 p_1 m_1 n^2) - p_1 m_1 =$\n",
    "\n",
    "$= p1 m1 n - 2 p1 m_1 n^2$\n",
    "\n",
    "Можно переписать это выражение, выделив квадрат\n",
    "\n",
    "$= - 2 p_1 m_1 (n - \\frac{1}{4})^2 + \\frac{p_1 m_1}{8}$\n",
    "\n",
    "Найдем первую производную и экстремум. Так как ветви параболы будут направлены вниз (знак минус перед $n^2$), то мы найдем максимум функции.\n",
    "\n",
    "$F'(n) = p_1 m_1 - 4 p_1 m_1 n$\n",
    "\n",
    "Получим в долях n = 0.25, то есть в процентах **n = 25**.\n",
    "\n",
    "- 2) Однако мы знаем, что вероятность не может быть больше 1, поэтому данное значение работает для $p_1 + 2 * 0.25 p_1 <= 1, т.е. p_1 <= 2/3$)\n",
    "\n",
    "Если же вероятность выше, то максимальное n находится между округленным вниз и округленным вверх значением $(\\frac{1}{p_1} - 1) / 2$ и зависит в том числе от $m_1$\n",
    "\n",
    "\n",
    "Если максимальное n, посчитанное исходя из разницы минимальной и текущей маржинальности, больше найденного аналитически n, то принимаем за n найденного аналитически.\n",
    "\n",
    "Далее сравниваем минимальную надбавку общей возможной маржи с имеющейся разницей. Если при максимально возможном n мы не достигаем минимальной разницы, то ставка будет равна 0. "
   ]
  },
  {
   "cell_type": "code",
   "execution_count": 8,
   "metadata": {},
   "outputs": [],
   "source": [
    "from math import ceil, floor\n",
    "import numpy as np"
   ]
  },
  {
   "cell_type": "code",
   "execution_count": 9,
   "metadata": {},
   "outputs": [],
   "source": [
    "def calc_delta_marge(product_id, max_product_value, optim_n):\n",
    "    \"\"\"\n",
    "    Функция возвращает разницу между текущим значением общей маржи с учетом продажи max_product_value \n",
    "    количества товаров с характеристиками product_id, с учетом оптимального значения коэффициента увеличения \n",
    "    ставки optim_n\n",
    "    \"\"\"\n",
    "    curr_probability = products[product_id]['probability']\n",
    "    price = products[product_id]['price']\n",
    "    curr_marginality = products[product_id]['marginality']\n",
    "    \n",
    "    gross_marge_curr = max_product_value * curr_probability * curr_marginality * price\n",
    "    \n",
    "    min_marginality = curr_marginality * (1 - optim_n / 100)\n",
    "    max_probability = max(1, curr_probability * (1 + 2 * optim_n / 100))\n",
    "    \n",
    "    gross_marge_max_margin_to_pay_back = max_product_value * max_probability * min_marginality * price\n",
    "    \n",
    "    return gross_marge_max_margin_to_pay_back - gross_marge_curr\n",
    "\n",
    "def propose_margin_to_pay_back(product_id, max_product_value, min_marginality=0, min_gross_marge_delta=0):\n",
    "    \"\"\"\n",
    "    Функция возвращает оптимальное для селлера значение ставки в у.е. в зависимости от характеристик \n",
    "    продукта product_id, максимального количества товаров max_product_value, минимальной необходимой \n",
    "    селлеру маржинальности min_marginality и минимальной надбавки общей возможной маржи min_gross_marge_delta\n",
    "    \"\"\"\n",
    "    curr_probability = products[product_id]['probability']\n",
    "    price = products[product_id]['price']\n",
    "    curr_marginality = products[product_id]['marginality']\n",
    "    \n",
    "    # marge = curr_marginality * price\n",
    "    # new_marginality = (curr_marginality * price - margin_to_pay_back) / price\n",
    "    # new_marginality >= min_marginality\n",
    "    \n",
    "    delta_curr_min_marginality = curr_marginality - min_marginality\n",
    "    max_n = int(100 * delta_curr_min_marginality // curr_marginality)  \n",
    "    min_margin_to_pay_back = 0\n",
    "    \n",
    "    if max_n < 1:\n",
    "        return min_margin_to_pay_back\n",
    "    \n",
    "    if curr_probability <= 2/3:\n",
    "        optim_n1 = min(25, max_n)\n",
    "        optim_n2 = min(25, max_n)\n",
    "    else:\n",
    "        optim_n1 = min(ceil((100 / curr_probability - 100) / 2), max_n)\n",
    "        optim_n2 = min(floor((100 / curr_probability - 100) / 2), max_n)\n",
    "    \n",
    "    arr_of_n = np.array([optim_n1, optim_n2])\n",
    "    arr_of_deltas = np.vectorize(calc_delta_marge)(product_id, max_product_value, arr_of_n)\n",
    "    \n",
    "    if max(arr_of_deltas) < min_gross_marge_delta:\n",
    "        return min_margin_to_pay_back\n",
    "    \n",
    "    n = arr_of_n[np.argmax(arr_of_deltas)]\n",
    "    margin_to_pay_back = curr_marginality * n * price / 100\n",
    "    \n",
    "    return floor(margin_to_pay_back)"
   ]
  },
  {
   "cell_type": "markdown",
   "metadata": {},
   "source": [
    "##### Например"
   ]
  },
  {
   "cell_type": "code",
   "execution_count": 10,
   "metadata": {},
   "outputs": [],
   "source": [
    "product_id, max_product_value, min_marginality, min_gross_marge_delta = 'P000000', 10000, 0.6, 10000000\n",
    "margin_to_pay_back = propose_margin_to_pay_back(product_id, max_product_value, \n",
    "                                                min_marginality, min_gross_marge_delta)"
   ]
  },
  {
   "cell_type": "code",
   "execution_count": 11,
   "metadata": {},
   "outputs": [
    {
     "name": "stdout",
     "output_type": "stream",
     "text": [
      "Для товара с артикулом P000000, вероятностью продажи 0.62, текущей маржинальностью 0.91 и стоимостью 9167 у.е., \n",
      "максимальным количеством товара на складе 10000 единиц, минимальной маржинальностью продавца 0.6 и минимальной \n",
      "общей маржой 10000000 у.е. селлер выберет ставку в 2075 у.е.\n"
     ]
    }
   ],
   "source": [
    "print(f\"\"\"Для товара с артикулом {product_id}, вероятностью продажи {round(products[product_id]['probability'], 2)}, текущей маржинальностью {round(products[product_id]['marginality'], 2)} и стоимостью {products[product_id]['price']} у.е., \n",
    "максимальным количеством товара на складе {max_product_value} единиц, минимальной маржинальностью продавца {min_marginality} и минимальной \n",
    "общей маржой {min_gross_marge_delta} у.е. селлер выберет ставку в {margin_to_pay_back} у.е.\"\"\")"
   ]
  },
  {
   "cell_type": "code",
   "execution_count": 12,
   "metadata": {},
   "outputs": [],
   "source": [
    "product_id, max_product_value, min_marginality, min_gross_marge_delta = 'P000000', 10000, 0.6, 0\n",
    "margin_to_pay_back = propose_margin_to_pay_back(product_id, max_product_value, \n",
    "                                                min_marginality, min_gross_marge_delta)"
   ]
  },
  {
   "cell_type": "code",
   "execution_count": 13,
   "metadata": {},
   "outputs": [
    {
     "name": "stdout",
     "output_type": "stream",
     "text": [
      "Для товара с артикулом P000000, вероятностью продажи 0.62, текущей маржинальностью 0.91 и стоимостью 9167 у.е., \n",
      "максимальным количеством товара на складе 10000 единиц, минимальной маржинальностью продавца 0.6 и минимальной \n",
      "общей маржой 0 у.е. селлер выберет ставку в 2075 у.е.\n"
     ]
    }
   ],
   "source": [
    "print(f\"\"\"Для товара с артикулом {product_id}, вероятностью продажи {round(products[product_id]['probability'], 2)}, текущей маржинальностью {round(products[product_id]['marginality'], 2)} и стоимостью {products[product_id]['price']} у.е., \n",
    "максимальным количеством товара на складе {max_product_value} единиц, минимальной маржинальностью продавца {min_marginality} и минимальной \n",
    "общей маржой {min_gross_marge_delta} у.е. селлер выберет ставку в {margin_to_pay_back} у.е.\"\"\")"
   ]
  },
  {
   "cell_type": "code",
   "execution_count": 14,
   "metadata": {},
   "outputs": [],
   "source": [
    "product_id, max_product_value, min_marginality, min_gross_marge_delta = 'P000001', 10000, 0.6, 0\n",
    "margin_to_pay_back = propose_margin_to_pay_back(product_id, max_product_value, \n",
    "                                                min_marginality, min_gross_marge_delta)"
   ]
  },
  {
   "cell_type": "code",
   "execution_count": 15,
   "metadata": {},
   "outputs": [
    {
     "name": "stdout",
     "output_type": "stream",
     "text": [
      "Для товара с артикулом P000001, вероятностью продажи 0.25, текущей маржинальностью 1.43 и стоимостью 14940 у.е., \n",
      "максимальным количеством товара на складе 10000 единиц, минимальной маржинальностью продавца 0.6 и минимальной \n",
      "общей маржой 0 у.е. селлер выберет ставку в 5356 у.е.\n"
     ]
    }
   ],
   "source": [
    "print(f\"\"\"Для товара с артикулом {product_id}, вероятностью продажи {round(products[product_id]['probability'], 2)}, текущей маржинальностью {round(products[product_id]['marginality'], 2)} и стоимостью {products[product_id]['price']} у.е., \n",
    "максимальным количеством товара на складе {max_product_value} единиц, минимальной маржинальностью продавца {min_marginality} и минимальной \n",
    "общей маржой {min_gross_marge_delta} у.е. селлер выберет ставку в {margin_to_pay_back} у.е.\"\"\")"
   ]
  },
  {
   "cell_type": "markdown",
   "metadata": {},
   "source": [
    "\n",
    "\n",
    "Если селлер уже имеет более точную статистику по соотношению \"увеличение ставки на 1% от начальной маржинальности / увеличение вероятности продажи товара на n% от начальной вероятности\", то ему необходимо будет пересчитать некоторые коэффициенты, начиная с аналитического определения n"
   ]
  },
  {
   "cell_type": "code",
   "execution_count": null,
   "metadata": {},
   "outputs": [],
   "source": []
  },
  {
   "cell_type": "code",
   "execution_count": 69,
   "metadata": {},
   "outputs": [],
   "source": [
    "import pandas as pd\n",
    "\n",
    "df_products = pd.DataFrame(products).T"
   ]
  },
  {
   "cell_type": "code",
   "execution_count": 70,
   "metadata": {},
   "outputs": [],
   "source": [
    "df_products['first_word'] = df_products.product_name.str.split()"
   ]
  },
  {
   "cell_type": "code",
   "execution_count": 71,
   "metadata": {},
   "outputs": [],
   "source": [
    "df_products['first_word'] = df_products.product_name.str.partition()"
   ]
  },
  {
   "cell_type": "code",
   "execution_count": 80,
   "metadata": {},
   "outputs": [],
   "source": [
    "df_products['E_margin_to_pay_back'] = df_products.probability * df_products.margin_to_pay_back"
   ]
  },
  {
   "cell_type": "code",
   "execution_count": 73,
   "metadata": {},
   "outputs": [],
   "source": [
    "df_products.sort_values('E_margin_to_pay_back', inplace=True, ascending=False)"
   ]
  },
  {
   "cell_type": "code",
   "execution_count": 74,
   "metadata": {},
   "outputs": [
    {
     "data": {
      "text/html": [
       "<div>\n",
       "<style scoped>\n",
       "    .dataframe tbody tr th:only-of-type {\n",
       "        vertical-align: middle;\n",
       "    }\n",
       "\n",
       "    .dataframe tbody tr th {\n",
       "        vertical-align: top;\n",
       "    }\n",
       "\n",
       "    .dataframe thead th {\n",
       "        text-align: right;\n",
       "    }\n",
       "</style>\n",
       "<table border=\"1\" class=\"dataframe\">\n",
       "  <thead>\n",
       "    <tr style=\"text-align: right;\">\n",
       "      <th></th>\n",
       "      <th>product_name</th>\n",
       "      <th>seller</th>\n",
       "      <th>probability</th>\n",
       "      <th>price</th>\n",
       "      <th>marginality</th>\n",
       "      <th>margin_to_pay_back</th>\n",
       "      <th>first_word</th>\n",
       "      <th>E_margin_to_pay_back</th>\n",
       "    </tr>\n",
       "  </thead>\n",
       "  <tbody>\n",
       "    <tr>\n",
       "      <th>P000262</th>\n",
       "      <td>Сетчатая обувь</td>\n",
       "      <td>E</td>\n",
       "      <td>0.999255</td>\n",
       "      <td>27740</td>\n",
       "      <td>0.907189</td>\n",
       "      <td>2572</td>\n",
       "      <td>Сетчатая</td>\n",
       "      <td>2570.08</td>\n",
       "    </tr>\n",
       "    <tr>\n",
       "      <th>P000378</th>\n",
       "      <td>Товары для домашних животных</td>\n",
       "      <td>R</td>\n",
       "      <td>0.998137</td>\n",
       "      <td>13736</td>\n",
       "      <td>0.460028</td>\n",
       "      <td>2335</td>\n",
       "      <td>Товары</td>\n",
       "      <td>2330.65</td>\n",
       "    </tr>\n",
       "    <tr>\n",
       "      <th>P000217</th>\n",
       "      <td>Чехлы для телефонов</td>\n",
       "      <td>T</td>\n",
       "      <td>0.997953</td>\n",
       "      <td>48163</td>\n",
       "      <td>0.781509</td>\n",
       "      <td>858</td>\n",
       "      <td>Чехлы</td>\n",
       "      <td>856.244</td>\n",
       "    </tr>\n",
       "    <tr>\n",
       "      <th>P000454</th>\n",
       "      <td>Корм для домашних животных</td>\n",
       "      <td>J</td>\n",
       "      <td>0.997633</td>\n",
       "      <td>3869</td>\n",
       "      <td>1.0877</td>\n",
       "      <td>94</td>\n",
       "      <td>Корм</td>\n",
       "      <td>93.7775</td>\n",
       "    </tr>\n",
       "    <tr>\n",
       "      <th>P000170</th>\n",
       "      <td>Спорт и путешествия</td>\n",
       "      <td>V</td>\n",
       "      <td>0.995401</td>\n",
       "      <td>43221</td>\n",
       "      <td>0.771247</td>\n",
       "      <td>2775</td>\n",
       "      <td>Спорт</td>\n",
       "      <td>2762.24</td>\n",
       "    </tr>\n",
       "    <tr>\n",
       "      <th>...</th>\n",
       "      <td>...</td>\n",
       "      <td>...</td>\n",
       "      <td>...</td>\n",
       "      <td>...</td>\n",
       "      <td>...</td>\n",
       "      <td>...</td>\n",
       "      <td>...</td>\n",
       "      <td>...</td>\n",
       "    </tr>\n",
       "    <tr>\n",
       "      <th>P000050</th>\n",
       "      <td>Наращивание ногтей</td>\n",
       "      <td>G</td>\n",
       "      <td>0.0159477</td>\n",
       "      <td>42148</td>\n",
       "      <td>0.794618</td>\n",
       "      <td>1881</td>\n",
       "      <td>Наращивание</td>\n",
       "      <td>29.9977</td>\n",
       "    </tr>\n",
       "    <tr>\n",
       "      <th>P000424</th>\n",
       "      <td>Умные часы</td>\n",
       "      <td>P</td>\n",
       "      <td>0.0119823</td>\n",
       "      <td>48822</td>\n",
       "      <td>0.826149</td>\n",
       "      <td>1304</td>\n",
       "      <td>Умные</td>\n",
       "      <td>15.625</td>\n",
       "    </tr>\n",
       "    <tr>\n",
       "      <th>P000398</th>\n",
       "      <td>Автомобильные чехлы</td>\n",
       "      <td>B</td>\n",
       "      <td>0.00965672</td>\n",
       "      <td>38993</td>\n",
       "      <td>0.852398</td>\n",
       "      <td>53</td>\n",
       "      <td>Автомобильные</td>\n",
       "      <td>0.511806</td>\n",
       "    </tr>\n",
       "    <tr>\n",
       "      <th>P000249</th>\n",
       "      <td>Товары для красоты и здоровья</td>\n",
       "      <td>L</td>\n",
       "      <td>0.00834408</td>\n",
       "      <td>7460</td>\n",
       "      <td>0.606121</td>\n",
       "      <td>2064</td>\n",
       "      <td>Товары</td>\n",
       "      <td>17.2222</td>\n",
       "    </tr>\n",
       "    <tr>\n",
       "      <th>P000157</th>\n",
       "      <td>Украшения для лица</td>\n",
       "      <td>D</td>\n",
       "      <td>0.00397426</td>\n",
       "      <td>43349</td>\n",
       "      <td>0.785886</td>\n",
       "      <td>125</td>\n",
       "      <td>Украшения</td>\n",
       "      <td>0.496783</td>\n",
       "    </tr>\n",
       "  </tbody>\n",
       "</table>\n",
       "<p>500 rows × 8 columns</p>\n",
       "</div>"
      ],
      "text/plain": [
       "                          product_name seller probability  price marginality  \\\n",
       "P000262                 Сетчатая обувь      E    0.999255  27740    0.907189   \n",
       "P000378   Товары для домашних животных      R    0.998137  13736    0.460028   \n",
       "P000217            Чехлы для телефонов      T    0.997953  48163    0.781509   \n",
       "P000454     Корм для домашних животных      J    0.997633   3869      1.0877   \n",
       "P000170            Спорт и путешествия      V    0.995401  43221    0.771247   \n",
       "...                                ...    ...         ...    ...         ...   \n",
       "P000050             Наращивание ногтей      G   0.0159477  42148    0.794618   \n",
       "P000424                     Умные часы      P   0.0119823  48822    0.826149   \n",
       "P000398            Автомобильные чехлы      B  0.00965672  38993    0.852398   \n",
       "P000249  Товары для красоты и здоровья      L  0.00834408   7460    0.606121   \n",
       "P000157             Украшения для лица      D  0.00397426  43349    0.785886   \n",
       "\n",
       "        margin_to_pay_back     first_word E_margin_to_pay_back  \n",
       "P000262               2572       Сетчатая              2570.08  \n",
       "P000378               2335         Товары              2330.65  \n",
       "P000217                858          Чехлы              856.244  \n",
       "P000454                 94           Корм              93.7775  \n",
       "P000170               2775          Спорт              2762.24  \n",
       "...                    ...            ...                  ...  \n",
       "P000050               1881    Наращивание              29.9977  \n",
       "P000424               1304          Умные               15.625  \n",
       "P000398                 53  Автомобильные             0.511806  \n",
       "P000249               2064         Товары              17.2222  \n",
       "P000157                125      Украшения             0.496783  \n",
       "\n",
       "[500 rows x 8 columns]"
      ]
     },
     "execution_count": 74,
     "metadata": {},
     "output_type": "execute_result"
    }
   ],
   "source": [
    "df_products"
   ]
  },
  {
   "cell_type": "markdown",
   "metadata": {},
   "source": [
    "#### Процесс принятия решения для маркетплейса по тому, как именно изменить позицию товара селлера в поисковой выдаче"
   ]
  },
  {
   "cell_type": "markdown",
   "metadata": {},
   "source": [
    "Допустим, что на любой запрос пользователя у нас есть в определенной степени релевантный товар.\n",
    "\n",
    "Для начала опишем процесс стандартной выдачи: сначала идут продукты с релевантностью 10, затем 5, и в конце 1.\n",
    "\n",
    "Переназначаем для продукта все поля (изменятся ставка и матожидание суммы, получаемой маркетплейсом за продажу продукта).\n",
    "\n",
    "Для пустого запроса продукты отсортированы по матожиданию суммы, получаемой маркетплейсом за продажу продукта.\n",
    "\n",
    "Считаем средний бюджет клиента по предыдущим запросам и фильтруем товары по значению, не превышающему его на 20%.\n",
    "\n",
    "Задача для продукта - попасть на первую страницу выдачи. На ней выводятся первые 10 продуктов.\n",
    "\n",
    "Составляем лист из значений согласно релевантности и если товар попал в выборку, то возвращаем его позицию в выборке. Если не попал, то возвращаем первое после отфильтрованных по бюджету значение."
   ]
  },
  {
   "cell_type": "code",
   "execution_count": 93,
   "metadata": {},
   "outputs": [],
   "source": [
    "def rank_of_sellers_good(product_id_curr, df_products, client_id, query_='', margin_to_pay_back=0):\n",
    "    \"\"\"\n",
    "    Функция возвращает позицию, на которой будет расположен товар product_id_curr селлера в поисковой выдаче\n",
    "    по запросу query_ для пользователя client_id, на основе данных о размере ставки селлера margin_to_pay_back\n",
    "    \n",
    "    \"\"\"\n",
    "    \n",
    "    marginality_curr = products[product_id_curr]['marginality']\n",
    "    probability_curr = products[product_id_curr]['probability']\n",
    "    price_curr = products[product_id_curr]['price']\n",
    "    seller = products[product_id_curr]['seller']\n",
    "    product_name = products[product_id_curr]['product_name']\n",
    "    E_margin_to_pay_back_curr = probability_curr * margin_to_pay_back\n",
    "    \n",
    "    mean_budjet = pd.DataFrame(dict_of_clients[client_id]['dict_of_queries']).T.budjet.mean()\n",
    "    n_queries = max(dict_of_clients[client_id]['dict_of_queries'])\n",
    "    \n",
    "    df_products = df_products[df_products.index != product_id_curr].copy()\n",
    "    \n",
    "    df_products.loc[product_id_curr] = [product_name, seller, probability_curr, price_curr, marginality_curr,\n",
    "                                        margin_to_pay_back, product_name.split(' ')[0], E_margin_to_pay_back_curr]\n",
    "    \n",
    "    df_filtered = df_products[df_products.price <= mean_budjet * 1.2].sort_values('E_margin_to_pay_back', \n",
    "                                                                                  ascending=False).copy()\n",
    "    list_query = list(df_filtered[df_filtered.product_name == query_].index)\n",
    "    list_query += list(df_filtered[df_filtered.first_word == query_].index)\n",
    "    list_query += list(df_filtered.query('product_name!=\"query_\" and first_word!=\"query_\"').index)\n",
    "    \n",
    "    \n",
    "    \n",
    "    if product_id_curr in list_query:\n",
    "        index_ = list_query.index(product_id_curr)\n",
    "        return index_\n",
    "        \n",
    "    return len(df_filtered)\n",
    "    \n",
    "    "
   ]
  },
  {
   "cell_type": "code",
   "execution_count": 94,
   "metadata": {},
   "outputs": [
    {
     "data": {
      "text/plain": [
       "324"
      ]
     },
     "execution_count": 94,
     "metadata": {},
     "output_type": "execute_result"
    }
   ],
   "source": [
    "rank_of_sellers_good('P000454', df_products, 'C05', query_='', margin_to_pay_back=0.6)"
   ]
  },
  {
   "cell_type": "code",
   "execution_count": null,
   "metadata": {},
   "outputs": [],
   "source": []
  }
 ],
 "metadata": {
  "kernelspec": {
   "display_name": "Python 3",
   "language": "python",
   "name": "python3"
  },
  "language_info": {
   "codemirror_mode": {
    "name": "ipython",
    "version": 3
   },
   "file_extension": ".py",
   "mimetype": "text/x-python",
   "name": "python",
   "nbconvert_exporter": "python",
   "pygments_lexer": "ipython3",
   "version": "3.8.5"
  }
 },
 "nbformat": 4,
 "nbformat_minor": 4
}
